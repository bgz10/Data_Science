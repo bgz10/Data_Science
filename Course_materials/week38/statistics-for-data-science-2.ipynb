{
 "cells": [
  {
   "cell_type": "markdown",
   "metadata": {},
   "source": [
    "$ \\Huge{Statistics \\quad for \\quad Data \\quad Science \\quad 2} $"
   ]
  },
  {
   "cell_type": "markdown",
   "metadata": {},
   "source": [
    "All examples from *How to Design and Report Experiments* by Andy Field & Graham Hole - ISBN 978-0-7619-7383-6"
   ]
  },
  {
   "cell_type": "code",
   "execution_count": 1,
   "metadata": {},
   "outputs": [],
   "source": [
    "import numpy as np\n",
    "import pandas as pd\n",
    "%matplotlib inline\n",
    "import matplotlib\n",
    "import matplotlib.pyplot as plt"
   ]
  },
  {
   "cell_type": "markdown",
   "metadata": {},
   "source": [
    "# What we will talk about:\n",
    "\n",
    "- descriptive statistics\n",
    "- dimensionality reduction\n",
    "- cluster analysis\n",
    "- inferential statistics\n",
    "- parametric statistics\n",
    "- non-parametric statistics\n",
    "- choosing a statistical test"
   ]
  },
  {
   "cell_type": "markdown",
   "metadata": {},
   "source": [
    "## Parametric and Non-Parametric Data\n",
    "\n",
    "**Non-Parametric Data:**\n",
    "\n",
    "- Nominal (a.k.a. categorical)\n",
    "- Ordinal\n",
    "\n",
    "**Parametric Data:**\n",
    "\n",
    "- Interval\n",
    "- Ratio"
   ]
  },
  {
   "cell_type": "markdown",
   "metadata": {},
   "source": [
    "# Inferential Statistics"
   ]
  },
  {
   "cell_type": "markdown",
   "metadata": {},
   "source": [
    "### Popuplations vs Samples"
   ]
  },
  {
   "cell_type": "markdown",
   "metadata": {},
   "source": [
    "- in inferential statistics, we are concerned with infering information about a population based on a sample\n",
    "- inferential statistics is useful for testing hypotheses"
   ]
  },
  {
   "cell_type": "markdown",
   "metadata": {},
   "source": [
    "infer | ɪnˈfəː |\n",
    "\n",
    "verb (infers, inferring, inferred) [with object]\n",
    "\n",
    "deduce or conclude (something) from evidence and reasoning rather than from explicit statements: [with clause] : from these facts we can infer that crime has been increasing."
   ]
  },
  {
   "cell_type": "markdown",
   "metadata": {},
   "source": [
    "## Which Statistical Test Do I Use?"
   ]
  },
  {
   "cell_type": "markdown",
   "metadata": {},
   "source": [
    "![](which-stat-test-to-use-1.pdf)"
   ]
  },
  {
   "cell_type": "markdown",
   "metadata": {},
   "source": [
    "![](which-stat-test-to-use-2.pdf)"
   ]
  },
  {
   "cell_type": "code",
   "execution_count": null,
   "metadata": {},
   "outputs": [],
   "source": []
  }
 ],
 "metadata": {
  "kernelspec": {
   "display_name": "Python 3",
   "language": "python",
   "name": "python3"
  },
  "language_info": {
   "codemirror_mode": {
    "name": "ipython",
    "version": 3
   },
   "file_extension": ".py",
   "mimetype": "text/x-python",
   "name": "python",
   "nbconvert_exporter": "python",
   "pygments_lexer": "ipython3",
   "version": "3.7.3"
  }
 },
 "nbformat": 4,
 "nbformat_minor": 2
}
